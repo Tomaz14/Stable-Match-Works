{
 "cells": [
  {
   "cell_type": "code",
   "execution_count": 1,
   "metadata": {
    "collapsed": true
   },
   "outputs": [
    {
     "name": "stdout",
     "output_type": "stream",
     "text": [
      "['C:\\\\Users\\\\marco\\\\Desktop\\\\Programmazione\\\\PYTHON\\\\StableMatchingWorkers/people_score\\\\economic_score.csv', 'C:\\\\Users\\\\marco\\\\Desktop\\\\Programmazione\\\\PYTHON\\\\StableMatchingWorkers/people_score\\\\generic_score.csv', 'C:\\\\Users\\\\marco\\\\Desktop\\\\Programmazione\\\\PYTHON\\\\StableMatchingWorkers/people_score\\\\healthcare_score.csv', 'C:\\\\Users\\\\marco\\\\Desktop\\\\Programmazione\\\\PYTHON\\\\StableMatchingWorkers/people_score\\\\informatics_score.csv', 'C:\\\\Users\\\\marco\\\\Desktop\\\\Programmazione\\\\PYTHON\\\\StableMatchingWorkers/people_score\\\\instruction_score.csv', 'C:\\\\Users\\\\marco\\\\Desktop\\\\Programmazione\\\\PYTHON\\\\StableMatchingWorkers/people_score\\\\worker_score.csv']\n"
     ]
    }
   ],
   "source": [
    "import pandas as pd\n",
    "import os\n",
    "import glob\n",
    "import csv\n",
    "import random\n",
    "\n",
    "categories = [{'Financial broker': 20, 'Financial advisor': 40, 'Banking': 400, 'Insurer': 539},\n",
    "              {'Shop clerk': 650, 'Waiter': 650, 'Delivery': 650, 'Cleaning': 650},\n",
    "              {'Doctor': 50, 'Nurse': 350},\n",
    "              {'Programmer': 300, 'System Engineer': 150, 'Telecommunications': 150, 'Cybersecurity': 100, 'Automation': 100},\n",
    "              {'HeadMaster': 100, 'Teacher': 750},\n",
    "              {'Factory': 1018, 'Outdoors': 1018}]\n",
    "\n",
    "path = os.getcwd() + '/people_score'\n",
    "csv_files = glob.glob(os.path.join(path, '*.csv'))\n",
    "print(csv_files)"
   ]
  },
  {
   "cell_type": "code",
   "execution_count": 4,
   "outputs": [],
   "source": [
    "for file in csv_files:\n",
    "    data = pd.read_csv(file)\n",
    "    with open(f\"{data.at[0, 'working environment'].lower()}_preferences.csv\", 'w') as f:\n",
    "        writer = csv.writer(f)\n",
    "        writer.writerow(['name and surname', 'preferences'])\n",
    "        for row in range(len(data)):\n",
    "            shuffle_list = list(categories[csv_files.index(file)])\n",
    "            random.shuffle(shuffle_list)\n",
    "            writer.writerow([data.at[row, 'name and surname'], shuffle_list])"
   ],
   "metadata": {
    "collapsed": false
   }
  },
  {
   "cell_type": "code",
   "execution_count": 6,
   "outputs": [],
   "source": [
    "for file in csv_files:\n",
    "    data = pd.read_csv(file)\n",
    "    data.loc[:, 'name':'surname']\n",
    "    with open(f\"{data.at[0, 'working environment'].lower()}_work_preferences.csv\", 'w') as f:\n",
    "        writer = csv.writer(f)\n",
    "        writer.writerow(['job name', 'job number', 'people'])\n",
    "        for job in list(categories[csv_files.index(file)]):\n",
    "            people = list()\n",
    "            for row in range(categories[csv_files.index(file)][job]):\n",
    "                people.append([data.at[row, 'name and surname']])\n",
    "            writer.writerow([job, categories[csv_files.index(file)][job], people])"
   ],
   "metadata": {
    "collapsed": false
   }
  },
  {
   "cell_type": "markdown",
   "source": [],
   "metadata": {
    "collapsed": false
   }
  }
 ],
 "metadata": {
  "kernelspec": {
   "display_name": "Python 3",
   "language": "python",
   "name": "python3"
  },
  "language_info": {
   "codemirror_mode": {
    "name": "ipython",
    "version": 2
   },
   "file_extension": ".py",
   "mimetype": "text/x-python",
   "name": "python",
   "nbconvert_exporter": "python",
   "pygments_lexer": "ipython2",
   "version": "2.7.6"
  }
 },
 "nbformat": 4,
 "nbformat_minor": 0
}
