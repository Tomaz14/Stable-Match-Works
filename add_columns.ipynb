{
 "cells": [
  {
   "cell_type": "code",
   "execution_count": null,
   "metadata": {
    "collapsed": true,
    "pycharm": {
     "is_executing": true
    }
   },
   "outputs": [],
   "source": [
    "import pandas as pd\n",
    "import numpy as np\n",
    "\n",
    "data = pd.read_csv('people_data.csv')\n",
    "data['Number children'] = np.random.randint(0, 4, data.shape[0])\n"
   ]
  },
  {
   "cell_type": "code",
   "execution_count": null,
   "outputs": [],
   "source": [
    "data"
   ],
   "metadata": {
    "collapsed": false
   }
  },
  {
   "cell_type": "code",
   "execution_count": null,
   "outputs": [],
   "source": [
    "data.drop(data.columns[0], axis=1)"
   ],
   "metadata": {
    "collapsed": false
   }
  },
  {
   "cell_type": "code",
   "execution_count": null,
   "outputs": [],
   "source": [
    "for row in range(len(data)):\n",
    "    if 18 <= data.at[row, 'Age'] <= 23:\n",
    "        data.at[row, 'Number children'] = 0"
   ],
   "metadata": {
    "collapsed": false
   }
  },
  {
   "cell_type": "code",
   "execution_count": null,
   "outputs": [],
   "source": [
    "data"
   ],
   "metadata": {
    "collapsed": false
   }
  },
  {
   "cell_type": "code",
   "execution_count": null,
   "outputs": [],
   "source": [
    "for col in data.columns:\n",
    "    print(col)"
   ],
   "metadata": {
    "collapsed": false
   }
  },
  {
   "cell_type": "code",
   "execution_count": null,
   "outputs": [],
   "source": [
    "data.drop(data.columns[0], axis=1)"
   ],
   "metadata": {
    "collapsed": false
   }
  },
  {
   "cell_type": "code",
   "execution_count": null,
   "outputs": [],
   "source": [
    "import random\n",
    "degree = ['compulsory school', 'high school diploma', 'three-year degree', 'master degree', 'master', 'Ph.D']\n",
    "guess = random.choice(degree)\n"
   ],
   "metadata": {
    "collapsed": false
   }
  },
  {
   "cell_type": "code",
   "execution_count": null,
   "outputs": [],
   "source": [
    "data['Degree'] = np.random.randint(0, 4, data.shape[0])"
   ],
   "metadata": {
    "collapsed": false
   }
  },
  {
   "cell_type": "code",
   "execution_count": null,
   "outputs": [],
   "source": [
    "data"
   ],
   "metadata": {
    "collapsed": false
   }
  },
  {
   "cell_type": "code",
   "execution_count": null,
   "outputs": [],
   "source": [
    "for row in range(len(data)):\n",
    "    if 18 <= data.at[row, 'Age'] <= 21:\n",
    "        data.at[row, 'Degree'] = str(random.choices(['compulsory school', 'high school diploma'], [0.1, 0.9]))[2:-2]\n",
    "    elif 21 < data.at[row, 'Age'] <= 24:\n",
    "        data.at[row, 'Degree'] = str(random.choices(['high school diploma', 'three-year degree'], [0.75, 0.25]))[2:-2]\n",
    "    elif 24 < data.at[row, 'Age'] <= 28:\n",
    "        data.at[row, 'Degree'] = str(random.choices(['compulsory school', 'high school diploma', 'three-year degree', 'master degree'], [0.08, 0.63, 0.22, 0.07]))[2:-2]\n",
    "    else: data.at[row, 'Degree'] = str(random.choices(['compulsory school', 'high school diploma', 'three-year degree', 'master degree', 'master', 'Ph.D'],\n",
    "                                                    [0.08, 0.55, 0.20, 0.09, 0.05, 0.03]))[2:-2]\n"
   ],
   "metadata": {
    "collapsed": false
   }
  },
  {
   "cell_type": "code",
   "execution_count": null,
   "outputs": [],
   "source": [
    "data"
   ],
   "metadata": {
    "collapsed": false
   }
  },
  {
   "cell_type": "code",
   "execution_count": null,
   "outputs": [],
   "source": [
    "data.drop(data.columns[0], axis=1)"
   ],
   "metadata": {
    "collapsed": false
   }
  },
  {
   "cell_type": "code",
   "execution_count": null,
   "outputs": [],
   "source": [
    "print(len(data[data['Degree'] == 'compulsory school']))\n",
    "print(len(data[data['Degree'] == 'high school diploma']))\n",
    "print(len(data[data['Degree'] == 'three-year degree']))\n",
    "print(len(data[data['Degree'] == 'master degree']))\n",
    "print(len(data[data['Degree'] == 'master']))\n",
    "print(len(data[data['Degree'] == 'Ph.D']))"
   ],
   "metadata": {
    "collapsed": false
   }
  },
  {
   "cell_type": "code",
   "execution_count": null,
   "outputs": [],
   "source": [
    "data['Experience'] = np.random.randint(0, 4, data.shape[0])"
   ],
   "metadata": {
    "collapsed": false
   }
  },
  {
   "cell_type": "code",
   "execution_count": null,
   "outputs": [],
   "source": [
    "data"
   ],
   "metadata": {
    "collapsed": false
   }
  },
  {
   "cell_type": "code",
   "execution_count": null,
   "outputs": [],
   "source": [
    "for row in range(len(data)):\n",
    "    if 18 <= data.at[row, 'Age'] <= 22:\n",
    "        data.at[row, 'Experience'] = random.choice([0, 1])\n",
    "    elif 22 < data.at[row, 'Age'] <= 28:\n",
    "        data.at[row, 'Experience'] = random.choices([0, 1, 2, 3, 4], [0.68, 0.12, 0.1, 0.06, 0.04])\n",
    "    elif 28 < data.at[row, 'Age'] <= 33:\n",
    "        data.at[row, 'Experience'] = random.choices([0, 1, 3, 5, 7, 8], [0.04, 0.08, 0.12, 0.22, 0.35, 0.21])\n",
    "    else: data.at[row, 'Experience'] = random.choices([0, 1, 3, 5, 7, 9, 12, 15, 20], [0.01, 0.01, 0.03, 0.05, 0.09, 0.30, 0.30, 0.15, 0.06])\n"
   ],
   "metadata": {
    "collapsed": false
   }
  },
  {
   "cell_type": "code",
   "execution_count": null,
   "outputs": [],
   "source": [
    "data"
   ],
   "metadata": {
    "collapsed": false
   }
  },
  {
   "cell_type": "code",
   "execution_count": null,
   "outputs": [],
   "source": [
    "data = data.drop(data.columns[0], axis=1)"
   ],
   "metadata": {
    "collapsed": false
   }
  },
  {
   "cell_type": "code",
   "execution_count": null,
   "outputs": [],
   "source": [
    "data"
   ],
   "metadata": {
    "collapsed": false
   }
  },
  {
   "cell_type": "code",
   "execution_count": null,
   "outputs": [],
   "source": [
    "data.to_csv('experience.csv')"
   ],
   "metadata": {
    "collapsed": false
   }
  },
  {
   "cell_type": "code",
   "execution_count": null,
   "outputs": [],
   "source": [
    "data"
   ],
   "metadata": {
    "collapsed": false
   }
  },
  {
   "cell_type": "code",
   "execution_count": null,
   "outputs": [],
   "source": [
    "data['Years of unemployment'] = np.random.randint(0, 4, data.shape[0])"
   ],
   "metadata": {
    "collapsed": false
   }
  },
  {
   "cell_type": "code",
   "execution_count": null,
   "outputs": [],
   "source": [
    "data"
   ],
   "metadata": {
    "collapsed": false
   }
  },
  {
   "cell_type": "code",
   "execution_count": null,
   "outputs": [],
   "source": [
    "for row in range(len(data)):\n",
    "    if 18 <= data.at[row, 'Age'] <= 25:\n",
    "        data.at[row, 'Years of unemployment'] = random.choices([0, 1, 2, 3, 4], [0.74, 0.16, 0.06, 0.03, 0.01])\n",
    "    elif 25 < data.at[row, 'Age'] <= 37:\n",
    "        data.at[row, 'Years of unemployment'] = random.choices([0, 1, 3, 5, 7, 9], [0.26, 0.25, 0.25, 0.08, 0.04, 0.02])\n",
    "    else: data.at[row, 'Years of unemployment'] = random.choices([0, 1, 3, 5, 7, 9, 12, 15, 20], [0.02, 0.07, 0.30, 0.14, 0.15, 0.15, 0.08, 0.07, 0.01])"
   ],
   "metadata": {
    "collapsed": false
   }
  },
  {
   "cell_type": "code",
   "execution_count": null,
   "outputs": [],
   "source": [
    "data"
   ],
   "metadata": {
    "collapsed": false
   }
  },
  {
   "cell_type": "code",
   "execution_count": null,
   "outputs": [],
   "source": [
    "data['Working environment'] = np.random.randint(0, 4, data.shape[0])"
   ],
   "metadata": {
    "collapsed": false
   }
  },
  {
   "cell_type": "code",
   "execution_count": null,
   "outputs": [],
   "source": [
    "data"
   ],
   "metadata": {
    "collapsed": false
   }
  },
  {
   "cell_type": "code",
   "execution_count": null,
   "outputs": [],
   "source": [
    "categories = [\"Informatics\", \"healthcare\", \"Economic\", \"Instruction\", \"Worker\", \"Generic\"]\n",
    "for row in range(len(data)):\n",
    "    if 18 <= data.at[row, 'Age'] <= 25:\n",
    "        data.at[row, 'Working environment'] = str(random.choices(categories, [0.13, 0.05, 0.13, 0.08, 0.30, 0.32]))[2:-2]\n",
    "    elif 25 < data.at[row, 'Age'] <= 30:\n",
    "        data.at[row, 'Working environment'] = str(random.choices(categories, [0.17, 0.10, 0.17, 0.12, 0.20, 0.24]))[2:-2]\n",
    "    else: data.at[row, 'Working environment'] = str(random.choices(categories, [0.05, 0.01, 0.1, 0.05, 0.15, 0.64]))[2:-2]"
   ],
   "metadata": {
    "collapsed": false
   }
  },
  {
   "cell_type": "code",
   "execution_count": null,
   "outputs": [],
   "source": [
    "data"
   ],
   "metadata": {
    "collapsed": false
   }
  },
  {
   "cell_type": "code",
   "execution_count": null,
   "outputs": [],
   "source": [
    "categories.remove('Generic')\n",
    "categories.remove('Worker')"
   ],
   "metadata": {
    "collapsed": false
   }
  },
  {
   "cell_type": "code",
   "execution_count": null,
   "outputs": [],
   "source": [
    "categories"
   ],
   "metadata": {
    "collapsed": false
   }
  },
  {
   "cell_type": "code",
   "execution_count": null,
   "outputs": [],
   "source": [
    "for row in range(len(data)):\n",
    "    if data.at[row, 'Degree'] in  ('three-year degree', 'master degree', 'master', 'Ph.D'):\n",
    "        data.at[row, 'Working environment'] = str(random.choices(categories, [0.25, 0.25, 0.25, 0.25]))[2:-2]\n",
    "    if data.at[row, 'Degree'] in 'compulsory school':\n",
    "        data.at[row, 'Working environment'] = str(random.choices(['Worker', 'Generic'], [0.5, 0.5]))[2:-2]"
   ],
   "metadata": {
    "collapsed": false
   }
  },
  {
   "cell_type": "code",
   "execution_count": null,
   "outputs": [],
   "source": [
    "data"
   ],
   "metadata": {
    "collapsed": false
   }
  },
  {
   "cell_type": "code",
   "execution_count": null,
   "outputs": [],
   "source": [
    "data.to_csv(r'final_people_data.csv')\n"
   ],
   "metadata": {
    "collapsed": false
   }
  }
 ],
 "metadata": {
  "kernelspec": {
   "display_name": "Python 3",
   "language": "python",
   "name": "python3"
  },
  "language_info": {
   "codemirror_mode": {
    "name": "ipython",
    "version": 2
   },
   "file_extension": ".py",
   "mimetype": "text/x-python",
   "name": "python",
   "nbconvert_exporter": "python",
   "pygments_lexer": "ipython2",
   "version": "2.7.6"
  }
 },
 "nbformat": 4,
 "nbformat_minor": 0
}
