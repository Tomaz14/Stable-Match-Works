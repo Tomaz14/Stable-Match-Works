{
 "cells": [
  {
   "cell_type": "code",
   "execution_count": null,
   "metadata": {
    "collapsed": true,
    "pycharm": {
     "is_executing": true
    }
   },
   "outputs": [],
   "source": [
    "import pandas as pd\n",
    "import numpy as np\n",
    "\n",
    "informatics_categories = ['Programmer', 'System Engineer', 'Telecommunications', 'Cybersecurity', 'Automation']\n",
    "economic_categories = ['Financial broker', 'Financial advisor', 'Banking', 'Insurer']\n",
    "healthcare_categories = ['Doctor', 'Nurse']\n",
    "instruction_categories = ['HeadMaster', 'Teacher']\n",
    "workers_categories = ['Factory', 'Outdoors']\n",
    "generic_categories = ['Shop clerk', 'Waiter', 'Delivery', 'Cleaning']\n",
    "informatics_data = pd.DataFrame()\n",
    "pdata = pd.read_csv('final_people_data.csv')\n",
    "for category in informatics_categories:\n",
    "    informatics_data[category] = np.random.randint(0, 1, 300)\n",
    "pdata['Working environment'].value_counts()"
   ]
  },
  {
   "cell_type": "code",
   "execution_count": null,
   "outputs": [],
   "source": [
    "informatics_data\n",
    "#300 Programmer\n",
    "#150 System Engineer\n",
    "#150 Telecommunications\n",
    "#100 Cybersecurity\n",
    "#100 Automation\n",
    "#TOT = 959/800 -> 159 try Generic"
   ],
   "metadata": {
    "collapsed": false,
    "pycharm": {
     "is_executing": true
    }
   }
  },
  {
   "cell_type": "code",
   "execution_count": null,
   "outputs": [],
   "source": [
    "for row in range(len(informatics_data)):\n",
    "    if 0 <= row < 100:\n",
    "         informatics_data.loc[row, 'Programmer':'Automation'] = 0\n",
    "    if 100 <= row < 150:\n",
    "        informatics_data.at[row, 'System Engineer'] =  informatics_data.at[row, 'Telecommunications'] = 0\n",
    "    if 150 <= row < 300:\n",
    "        informatics_data.loc[row, 'System Engineer':'Automation'] = np.NaN\n",
    "\n",
    "\n",
    "informatics_data"
   ],
   "metadata": {
    "collapsed": false,
    "pycharm": {
     "is_executing": true
    }
   }
  },
  {
   "cell_type": "code",
   "execution_count": null,
   "outputs": [],
   "source": [
    "economic_data = pd.DataFrame()\n",
    "\n",
    "for category in economic_categories:\n",
    "   economic_data[category] = np.random.randint(0, 1, 539)\n",
    "\n",
    "economic_data\n",
    "#financial broker 20\n",
    "#financial advisor 40\n",
    "#banking 400\n",
    "#insurer 539\n",
    "#TOT = 999/999 -> 0 free place"
   ],
   "metadata": {
    "collapsed": false,
    "pycharm": {
     "is_executing": true
    }
   }
  },
  {
   "cell_type": "code",
   "execution_count": null,
   "outputs": [],
   "source": [
    "for row in range(len(economic_data)):\n",
    "    if 20 <= row <= 539:\n",
    "        economic_data.at[row, 'Financial broker'] = np.NaN\n",
    "    if 40 <= row <= 539:\n",
    "        economic_data.at[row, 'Financial advisor'] = np.NaN\n",
    "    if 400 <= row <= 539:\n",
    "        economic_data.at[row, 'Banking'] = np.NaN\n",
    "\n",
    "economic_data"
   ],
   "metadata": {
    "collapsed": false,
    "pycharm": {
     "is_executing": true
    }
   }
  },
  {
   "cell_type": "code",
   "execution_count": null,
   "outputs": [],
   "source": [
    "healthcare_data = pd.DataFrame()\n",
    "\n",
    "for category in healthcare_categories:\n",
    "   healthcare_data[category] = np.random.randint(0, 1, 300)\n",
    "\n",
    "healthcare_data\n",
    "\n",
    "#Doctors 50\n",
    "#Nurse 300\n",
    "#TOT 740/350 390 -> try Generic"
   ],
   "metadata": {
    "collapsed": false,
    "pycharm": {
     "is_executing": true
    }
   }
  },
  {
   "cell_type": "code",
   "execution_count": null,
   "outputs": [],
   "source": [
    "for row in range(len(healthcare_data)):\n",
    "    if 50 <= row <= 300:\n",
    "        healthcare_data.at[row, 'Doctor'] = np.NaN\n",
    "\n",
    "healthcare_data\n"
   ],
   "metadata": {
    "collapsed": false,
    "pycharm": {
     "is_executing": true
    }
   }
  },
  {
   "cell_type": "code",
   "execution_count": null,
   "outputs": [],
   "source": [
    "instruction_data = pd.DataFrame()\n",
    "\n",
    "for category in instruction_categories:\n",
    "   instruction_data[category] = np.random.randint(0, 1, 750)\n",
    "\n",
    "instruction_data"
   ],
   "metadata": {
    "collapsed": false,
    "pycharm": {
     "is_executing": true
    }
   }
  },
  {
   "cell_type": "code",
   "execution_count": null,
   "outputs": [],
   "source": [
    "#HeadMaster 100\n",
    "#Teacher 750\n",
    "#TOT 822/850 -> 28 free\n",
    "\n",
    "for row in range(len(instruction_data)):\n",
    "    if 100 <= row <= 750:\n",
    "        instruction_data.at[row, 'HeadMaster'] = np.NaN\n",
    "\n",
    "instruction_data"
   ],
   "metadata": {
    "collapsed": false,
    "pycharm": {
     "is_executing": true
    }
   }
  },
  {
   "cell_type": "code",
   "execution_count": null,
   "outputs": [],
   "source": [
    "workers_data = pd.DataFrame()\n",
    "\n",
    "for category in workers_categories:\n",
    "   workers_data[category] = np.random.randint(0, 1, 1018)\n",
    "\n",
    "workers_data\n",
    "#All find work as worker"
   ],
   "metadata": {
    "collapsed": false,
    "pycharm": {
     "is_executing": true
    }
   }
  },
  {
   "cell_type": "code",
   "execution_count": null,
   "outputs": [],
   "source": [
    "generic_data = pd.DataFrame()\n",
    "\n",
    "for category in generic_categories:\n",
    "    generic_data[category] = np.random.randint(0, 1, 650)\n",
    "\n",
    "generic_data"
   ],
   "metadata": {
    "collapsed": false,
    "pycharm": {
     "is_executing": true
    }
   }
  },
  {
   "cell_type": "code",
   "execution_count": 38,
   "outputs": [],
   "source": [
    "informatics_data.to_csv(r'informatics_data.csv')\n",
    "instruction_data.to_csv(r'instruction_data.csv')\n",
    "economic_data.to_csv(r'economic_data.csv')\n",
    "healthcare_data.to_csv(r'healthcare_data.csv')\n",
    "workers_data.to_csv(r'workers_data.csv')\n",
    "generic_data.to_csv(r'generic_data.csv')"
   ],
   "metadata": {
    "collapsed": false
   }
  },
  {
   "cell_type": "code",
   "execution_count": null,
   "outputs": [],
   "source": [],
   "metadata": {
    "collapsed": false
   }
  }
 ],
 "metadata": {
  "kernelspec": {
   "display_name": "Python 3",
   "language": "python",
   "name": "python3"
  },
  "language_info": {
   "codemirror_mode": {
    "name": "ipython",
    "version": 2
   },
   "file_extension": ".py",
   "mimetype": "text/x-python",
   "name": "python",
   "nbconvert_exporter": "python",
   "pygments_lexer": "ipython2",
   "version": "2.7.6"
  }
 },
 "nbformat": 4,
 "nbformat_minor": 0
}
